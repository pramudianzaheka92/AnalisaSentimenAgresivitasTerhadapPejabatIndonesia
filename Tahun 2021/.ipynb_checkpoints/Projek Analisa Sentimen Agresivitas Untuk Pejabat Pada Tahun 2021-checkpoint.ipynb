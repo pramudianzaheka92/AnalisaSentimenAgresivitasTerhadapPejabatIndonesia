{
 "cells": [
  {
   "cell_type": "code",
   "execution_count": 80,
   "metadata": {},
   "outputs": [],
   "source": [
    "import pandas as pd\n",
    "import re\n",
    "import seaborn as sns\n",
    "import matplotlib.pyplot as plt"
   ]
  },
  {
   "cell_type": "code",
   "execution_count": 81,
   "metadata": {},
   "outputs": [
    {
     "data": {
      "text/html": [
       "<div>\n",
       "<style scoped>\n",
       "    .dataframe tbody tr th:only-of-type {\n",
       "        vertical-align: middle;\n",
       "    }\n",
       "\n",
       "    .dataframe tbody tr th {\n",
       "        vertical-align: top;\n",
       "    }\n",
       "\n",
       "    .dataframe thead th {\n",
       "        text-align: right;\n",
       "    }\n",
       "</style>\n",
       "<table border=\"1\" class=\"dataframe\">\n",
       "  <thead>\n",
       "    <tr style=\"text-align: right;\">\n",
       "      <th></th>\n",
       "      <th>date</th>\n",
       "      <th>content</th>\n",
       "      <th>label</th>\n",
       "    </tr>\n",
       "  </thead>\n",
       "  <tbody>\n",
       "    <tr>\n",
       "      <th>0</th>\n",
       "      <td>Fri Jul 23 23:56:17</td>\n",
       "      <td>aksi dgn tajuk turunkan @jokowi yg sdg ramai ...</td>\n",
       "      <td>negatif</td>\n",
       "    </tr>\n",
       "    <tr>\n",
       "      <th>1</th>\n",
       "      <td>Fri Jul 23 23:20:32</td>\n",
       "      <td>Tetaplah idiot bodoh goblok pandir serta dung...</td>\n",
       "      <td>positif</td>\n",
       "    </tr>\n",
       "    <tr>\n",
       "      <th>2</th>\n",
       "      <td>Fri Jul 23 16:47:46</td>\n",
       "      <td>Ya makanya tolol bener kalau lalu sekarang ma...</td>\n",
       "      <td>positif</td>\n",
       "    </tr>\n",
       "    <tr>\n",
       "      <th>3</th>\n",
       "      <td>Fri Jul 23 16:23:40</td>\n",
       "      <td>Yg bikin kyak gini pake kalimat Jokowi end ga...</td>\n",
       "      <td>negatif</td>\n",
       "    </tr>\n",
       "    <tr>\n",
       "      <th>4</th>\n",
       "      <td>Fri Jul 23 13:32:48</td>\n",
       "      <td>@FerdinandHaean3 Yg penting jeplak tidak pedu...</td>\n",
       "      <td>negatif</td>\n",
       "    </tr>\n",
       "  </tbody>\n",
       "</table>\n",
       "</div>"
      ],
      "text/plain": [
       "                  date                                            content  \\\n",
       "0  Fri Jul 23 23:56:17   aksi dgn tajuk turunkan @jokowi yg sdg ramai ...   \n",
       "1  Fri Jul 23 23:20:32   Tetaplah idiot bodoh goblok pandir serta dung...   \n",
       "2  Fri Jul 23 16:47:46   Ya makanya tolol bener kalau lalu sekarang ma...   \n",
       "3  Fri Jul 23 16:23:40   Yg bikin kyak gini pake kalimat Jokowi end ga...   \n",
       "4  Fri Jul 23 13:32:48   @FerdinandHaean3 Yg penting jeplak tidak pedu...   \n",
       "\n",
       "     label  \n",
       "0  negatif  \n",
       "1  positif  \n",
       "2  positif  \n",
       "3  negatif  \n",
       "4  negatif  "
      ]
     },
     "execution_count": 81,
     "metadata": {},
     "output_type": "execute_result"
    }
   ],
   "source": [
    "data_2021 = pd.read_excel(\"Data Tahun 2021.xlsx\")\n",
    "data_2021.head()"
   ]
  },
  {
   "cell_type": "code",
   "execution_count": 82,
   "metadata": {},
   "outputs": [
    {
     "data": {
      "image/png": "[encoded data removed]",
      "text/plain": [
       "<Figure size 576x396 with 1 Axes>"
      ]
     },
     "metadata": {},
     "output_type": "display_data"
    },
    {
     "data": {
      "text/plain": [
       "<Figure size 720x720 with 0 Axes>"
      ]
     },
     "metadata": {},
     "output_type": "display_data"
    }
   ],
   "source": [
    "# Melakukan visualisasi untuk kolom \"label\"\n",
    "\n",
    "plt.style.use(\"seaborn\")\n",
    "plt.title(\"Perhitungan Label Sentimen Secara Manual\")\n",
    "sns.countplot(x=\"label\", hue=\"label\", data=data_2021)\n",
    "plt.figure(figsize=(10, 10))\n",
    "plt.show()"
   ]
  },
  {
   "cell_type": "code",
   "execution_count": 83,
   "metadata": {},
   "outputs": [
    {
     "name": "stdout",
     "output_type": "stream",
     "text": [
      "<class 'pandas.core.frame.DataFrame'>\n",
      "RangeIndex: 1800 entries, 0 to 1799\n",
      "Data columns (total 3 columns):\n",
      " #   Column   Non-Null Count  Dtype \n",
      "---  ------   --------------  ----- \n",
      " 0   date     1800 non-null   object\n",
      " 1   content  1800 non-null   object\n",
      " 2   label    1800 non-null   object\n",
      "dtypes: object(3)\n",
      "memory usage: 42.3+ KB\n"
     ]
    }
   ],
   "source": [
    "data_2021.info()"
   ]
  }
 ],
 "metadata": {
  "kernelspec": {
   "display_name": "Python 3",
   "language": "python",
   "name": "python3"
  },
  "language_info": {
   "codemirror_mode": {
    "name": "ipython",
    "version": 3
   },
   "file_extension": ".py",
   "mimetype": "text/x-python",
   "name": "python",
   "nbconvert_exporter": "python",
   "pygments_lexer": "ipython3",
   "version": "3.8.5"
  }
 },
 "nbformat": 4,
 "nbformat_minor": 4
}
