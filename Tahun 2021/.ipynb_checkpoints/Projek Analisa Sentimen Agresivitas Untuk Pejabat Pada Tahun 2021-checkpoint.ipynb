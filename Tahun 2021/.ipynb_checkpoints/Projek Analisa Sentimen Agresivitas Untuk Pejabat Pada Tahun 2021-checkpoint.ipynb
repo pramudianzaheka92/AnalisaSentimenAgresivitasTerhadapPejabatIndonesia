{
 "cells": [
  {
   "cell_type": "markdown",
   "metadata": {},
   "source": [
    "# Analisa Sentimen Dari Media Sosial Twitter Tentang Agresivitas Kepada Para Pejabat Indonesia Di Tahun 2021"
   ]
  },
  {
   "cell_type": "markdown",
   "metadata": {},
   "source": [
    "## 1. Import Library & Load Dataset Dari Local Device"
   ]
  },
  {
   "cell_type": "code",
   "execution_count": 1,
   "metadata": {},
   "outputs": [],
   "source": [
    "import pandas as pd\n",
    "import re\n",
    "import seaborn as sns\n",
    "import matplotlib.pyplot as plt\n",
    "import nltk\n",
    "from nltk.tokenize import word_tokenize\n",
    "from wordcloud import WordCloud\n",
    "from sklearn.metrics import confusion_matrix, classification_report"
   ]
  },
  {
   "cell_type": "code",
   "execution_count": 2,
   "metadata": {},
   "outputs": [
    {
     "data": {
      "text/html": [
       "<div>\n",
       "<style scoped>\n",
       "    .dataframe tbody tr th:only-of-type {\n",
       "        vertical-align: middle;\n",
       "    }\n",
       "\n",
       "    .dataframe tbody tr th {\n",
       "        vertical-align: top;\n",
       "    }\n",
       "\n",
       "    .dataframe thead th {\n",
       "        text-align: right;\n",
       "    }\n",
       "</style>\n",
       "<table border=\"1\" class=\"dataframe\">\n",
       "  <thead>\n",
       "    <tr style=\"text-align: right;\">\n",
       "      <th></th>\n",
       "      <th>date</th>\n",
       "      <th>content</th>\n",
       "      <th>label</th>\n",
       "    </tr>\n",
       "  </thead>\n",
       "  <tbody>\n",
       "    <tr>\n",
       "      <th>0</th>\n",
       "      <td>Fri Jul 23 23:56:17</td>\n",
       "      <td>aksi dgn tajuk turunkan @jokowi yg sdg ramai ...</td>\n",
       "      <td>negatif</td>\n",
       "    </tr>\n",
       "    <tr>\n",
       "      <th>1</th>\n",
       "      <td>Fri Jul 23 23:20:32</td>\n",
       "      <td>Tetaplah idiot bodoh goblok pandir serta dung...</td>\n",
       "      <td>positif</td>\n",
       "    </tr>\n",
       "    <tr>\n",
       "      <th>2</th>\n",
       "      <td>Fri Jul 23 16:47:46</td>\n",
       "      <td>Ya makanya tolol bener kalau lalu sekarang ma...</td>\n",
       "      <td>positif</td>\n",
       "    </tr>\n",
       "    <tr>\n",
       "      <th>3</th>\n",
       "      <td>Fri Jul 23 16:23:40</td>\n",
       "      <td>Yg bikin kyak gini pake kalimat Jokowi end ga...</td>\n",
       "      <td>negatif</td>\n",
       "    </tr>\n",
       "    <tr>\n",
       "      <th>4</th>\n",
       "      <td>Fri Jul 23 13:32:48</td>\n",
       "      <td>@FerdinandHaean3 Yg penting jeplak tidak pedu...</td>\n",
       "      <td>negatif</td>\n",
       "    </tr>\n",
       "  </tbody>\n",
       "</table>\n",
       "</div>"
      ],
      "text/plain": [
       "                  date                                            content  \\\n",
       "0  Fri Jul 23 23:56:17   aksi dgn tajuk turunkan @jokowi yg sdg ramai ...   \n",
       "1  Fri Jul 23 23:20:32   Tetaplah idiot bodoh goblok pandir serta dung...   \n",
       "2  Fri Jul 23 16:47:46   Ya makanya tolol bener kalau lalu sekarang ma...   \n",
       "3  Fri Jul 23 16:23:40   Yg bikin kyak gini pake kalimat Jokowi end ga...   \n",
       "4  Fri Jul 23 13:32:48   @FerdinandHaean3 Yg penting jeplak tidak pedu...   \n",
       "\n",
       "     label  \n",
       "0  negatif  \n",
       "1  positif  \n",
       "2  positif  \n",
       "3  negatif  \n",
       "4  negatif  "
      ]
     },
     "execution_count": 2,
     "metadata": {},
     "output_type": "execute_result"
    }
   ],
   "source": [
    "data_2021 = pd.read_excel(\"Data Tahun 2021.xlsx\")\n",
    "data_2021.head()"
   ]
  },
  {
   "cell_type": "code",
   "execution_count": 3,
   "metadata": {},
   "outputs": [
    {
     "name": "stdout",
     "output_type": "stream",
     "text": [
      "<class 'pandas.core.frame.DataFrame'>\n",
      "RangeIndex: 1800 entries, 0 to 1799\n",
      "Data columns (total 3 columns):\n",
      " #   Column   Non-Null Count  Dtype \n",
      "---  ------   --------------  ----- \n",
      " 0   date     1800 non-null   object\n",
      " 1   content  1800 non-null   object\n",
      " 2   label    1800 non-null   object\n",
      "dtypes: object(3)\n",
      "memory usage: 42.3+ KB\n"
     ]
    }
   ],
   "source": [
    "# Mengecek tipe data dan juga apakah di dalam DataFrame \"data_2021\" memiliki nilai NaN/tidak\n",
    "data_2021.info()"
   ]
  },
  {
   "cell_type": "code",
   "execution_count": 4,
   "metadata": {},
   "outputs": [
    {
     "data": {
      "image/png": "[encoded data removed]",
      "text/plain": [
       "<Figure size 576x396 with 1 Axes>"
      ]
     },
     "metadata": {},
     "output_type": "display_data"
    },
    {
     "data": {
      "text/plain": [
       "<Figure size 720x720 with 0 Axes>"
      ]
     },
     "metadata": {},
     "output_type": "display_data"
    }
   ],
   "source": [
    "# Melakukan visualisasi untuk kolom \"label\"\n",
    "\n",
    "plt.style.use(\"seaborn\")\n",
    "plt.title(\"Perhitungan Label Sentimen Secara Manual\")\n",
    "sns.countplot(x=\"label\", hue=\"label\", data=data_2021)\n",
    "plt.figure(figsize=(10, 10))\n",
    "plt.show()"
   ]
  },
  {
   "cell_type": "code",
   "execution_count": 5,
   "metadata": {},
   "outputs": [
    {
     "data": {
      "text/html": [
       "<style  type=\"text/css\" >\n",
       "#T_7d2419d5_fa79_11eb_a5cc_b5d303c4e34drow0_col1{\n",
       "            background-color:  #ffffff;\n",
       "            color:  #000000;\n",
       "        }#T_7d2419d5_fa79_11eb_a5cc_b5d303c4e34drow1_col1{\n",
       "            background-color:  #000000;\n",
       "            color:  #f1f1f1;\n",
       "        }</style><table id=\"T_7d2419d5_fa79_11eb_a5cc_b5d303c4e34d\" ><thead>    <tr>        <th class=\"blank level0\" ></th>        <th class=\"col_heading level0 col0\" >label</th>        <th class=\"col_heading level0 col1\" >content</th>    </tr></thead><tbody>\n",
       "                <tr>\n",
       "                        <th id=\"T_7d2419d5_fa79_11eb_a5cc_b5d303c4e34dlevel0_row0\" class=\"row_heading level0 row0\" >1</th>\n",
       "                        <td id=\"T_7d2419d5_fa79_11eb_a5cc_b5d303c4e34drow0_col0\" class=\"data row0 col0\" >positif</td>\n",
       "                        <td id=\"T_7d2419d5_fa79_11eb_a5cc_b5d303c4e34drow0_col1\" class=\"data row0 col1\" >1118</td>\n",
       "            </tr>\n",
       "            <tr>\n",
       "                        <th id=\"T_7d2419d5_fa79_11eb_a5cc_b5d303c4e34dlevel0_row1\" class=\"row_heading level0 row1\" >0</th>\n",
       "                        <td id=\"T_7d2419d5_fa79_11eb_a5cc_b5d303c4e34drow1_col0\" class=\"data row1 col0\" >negatif</td>\n",
       "                        <td id=\"T_7d2419d5_fa79_11eb_a5cc_b5d303c4e34drow1_col1\" class=\"data row1 col1\" >682</td>\n",
       "            </tr>\n",
       "    </tbody></table>"
      ],
      "text/plain": [
       "<pandas.io.formats.style.Styler at 0x270e637cd90>"
      ]
     },
     "execution_count": 5,
     "metadata": {},
     "output_type": "execute_result"
    }
   ],
   "source": [
    "# Menghitung sekaligus mengurutkan jumlah label terbanyak berdasarkan tweet\n",
    "jumlah_content = data_2021.groupby(\"label\").count()[\"content\"].reset_index().sort_values(by=\"content\", ascending=False)\n",
    "jumlah_content.style.background_gradient(cmap=\"bone\")"
   ]
  },
  {
   "cell_type": "markdown",
   "metadata": {},
   "source": [
    "Dapat dilihat dari perhitungan diatas, dari 1800 jumlah data netizen twitter di tahun 2020 ketika melakukan tweet tentang topik para pejabat di Indonesia mendapatkan label positif yang sangat tinggi daripada label negatif yang memiliki jumlah sentimen sebanyak 1118 tweet sedangkan label negatif memiliki jumlah sentimen sebanyak 682."
   ]
  },
  {
   "cell_type": "markdown",
   "metadata": {},
   "source": [
    "## 2. Text Preprocessing (Cleansing, Case Folding, Tokenizing, Stopwords & Stemming)"
   ]
  },
  {
   "cell_type": "markdown",
   "metadata": {},
   "source": [
    "### Cleansing"
   ]
  },
  {
   "cell_type": "code",
   "execution_count": 6,
   "metadata": {},
   "outputs": [
    {
     "data": {
      "text/html": [
       "<div>\n",
       "<style scoped>\n",
       "    .dataframe tbody tr th:only-of-type {\n",
       "        vertical-align: middle;\n",
       "    }\n",
       "\n",
       "    .dataframe tbody tr th {\n",
       "        vertical-align: top;\n",
       "    }\n",
       "\n",
       "    .dataframe thead th {\n",
       "        text-align: right;\n",
       "    }\n",
       "</style>\n",
       "<table border=\"1\" class=\"dataframe\">\n",
       "  <thead>\n",
       "    <tr style=\"text-align: right;\">\n",
       "      <th></th>\n",
       "      <th>date</th>\n",
       "      <th>content</th>\n",
       "      <th>label</th>\n",
       "    </tr>\n",
       "  </thead>\n",
       "  <tbody>\n",
       "    <tr>\n",
       "      <th>0</th>\n",
       "      <td>Fri Jul 23 23:56:17</td>\n",
       "      <td>aksi dgn tajuk turunkan jokowi sdg ramai meds...</td>\n",
       "      <td>negatif</td>\n",
       "    </tr>\n",
       "    <tr>\n",
       "      <th>1</th>\n",
       "      <td>Fri Jul 23 23:20:32</td>\n",
       "      <td>Tetaplah idiot bodoh goblok pandir serta dung...</td>\n",
       "      <td>positif</td>\n",
       "    </tr>\n",
       "    <tr>\n",
       "      <th>2</th>\n",
       "      <td>Fri Jul 23 16:47:46</td>\n",
       "      <td>makanya tolol bener kalau lalu sekarang mau d...</td>\n",
       "      <td>positif</td>\n",
       "    </tr>\n",
       "    <tr>\n",
       "      <th>3</th>\n",
       "      <td>Fri Jul 23 16:23:40</td>\n",
       "      <td>bikin kyak gini pake kalimat Jokowi end game ...</td>\n",
       "      <td>negatif</td>\n",
       "    </tr>\n",
       "    <tr>\n",
       "      <th>4</th>\n",
       "      <td>Fri Jul 23 13:32:48</td>\n",
       "      <td>FerdinandHaean3 penting jeplak tidak peduli n...</td>\n",
       "      <td>negatif</td>\n",
       "    </tr>\n",
       "  </tbody>\n",
       "</table>\n",
       "</div>"
      ],
      "text/plain": [
       "                  date                                            content  \\\n",
       "0  Fri Jul 23 23:56:17   aksi dgn tajuk turunkan jokowi sdg ramai meds...   \n",
       "1  Fri Jul 23 23:20:32   Tetaplah idiot bodoh goblok pandir serta dung...   \n",
       "2  Fri Jul 23 16:47:46   makanya tolol bener kalau lalu sekarang mau d...   \n",
       "3  Fri Jul 23 16:23:40   bikin kyak gini pake kalimat Jokowi end game ...   \n",
       "4  Fri Jul 23 13:32:48   FerdinandHaean3 penting jeplak tidak peduli n...   \n",
       "\n",
       "     label  \n",
       "0  negatif  \n",
       "1  positif  \n",
       "2  positif  \n",
       "3  negatif  \n",
       "4  negatif  "
      ]
     },
     "execution_count": 6,
     "metadata": {},
     "output_type": "execute_result"
    }
   ],
   "source": [
    "# Menghilangkan dari kalimat-kalimat, simbol-simbol, emoticon yang tidak dibutuhkan selama pengujian pada kolom content\n",
    "def bersih_text(text):\n",
    "    text = re.sub(r'[^a-zA-z0-9]',' ', str(text))\n",
    "    text = re.sub(r'\\b\\w{1,2}\\b','', text)\n",
    "    text = re.sub(r'\\s\\s+',' ', text)\n",
    "    text = re.sub(r'https?:\\/\\/\\S+', '', text)  \n",
    "    text = re.sub(\"(@[A-Za-z0-9]+)|([^0-9A-Za-z \\t])|(\\w+:\\/\\/\\S+)\",\" \",text)\n",
    "    return text\n",
    "\n",
    "data_2021[\"content\"] = data_2021[\"content\"].apply(bersih_text)\n",
    "\n",
    "data_2021.head()"
   ]
  },
  {
   "cell_type": "code",
   "execution_count": 7,
   "metadata": {},
   "outputs": [
    {
     "data": {
      "text/html": [
       "<div>\n",
       "<style scoped>\n",
       "    .dataframe tbody tr th:only-of-type {\n",
       "        vertical-align: middle;\n",
       "    }\n",
       "\n",
       "    .dataframe tbody tr th {\n",
       "        vertical-align: top;\n",
       "    }\n",
       "\n",
       "    .dataframe thead th {\n",
       "        text-align: right;\n",
       "    }\n",
       "</style>\n",
       "<table border=\"1\" class=\"dataframe\">\n",
       "  <thead>\n",
       "    <tr style=\"text-align: right;\">\n",
       "      <th></th>\n",
       "      <th>date</th>\n",
       "      <th>content</th>\n",
       "      <th>label</th>\n",
       "    </tr>\n",
       "  </thead>\n",
       "  <tbody>\n",
       "    <tr>\n",
       "      <th>0</th>\n",
       "      <td>Fri Jul 23 23:56:17</td>\n",
       "      <td>aksi dgn tajuk turunkan jokowi sdg ramai meds...</td>\n",
       "      <td>negatif</td>\n",
       "    </tr>\n",
       "    <tr>\n",
       "      <th>1</th>\n",
       "      <td>Fri Jul 23 23:20:32</td>\n",
       "      <td>Tetaplah idiot bodoh goblok pandir serta dung...</td>\n",
       "      <td>positif</td>\n",
       "    </tr>\n",
       "    <tr>\n",
       "      <th>2</th>\n",
       "      <td>Fri Jul 23 16:47:46</td>\n",
       "      <td>makanya tolol bener kalau lalu sekarang mau d...</td>\n",
       "      <td>positif</td>\n",
       "    </tr>\n",
       "    <tr>\n",
       "      <th>3</th>\n",
       "      <td>Fri Jul 23 16:23:40</td>\n",
       "      <td>bikin kyak gini pake kalimat Jokowi end game ...</td>\n",
       "      <td>negatif</td>\n",
       "    </tr>\n",
       "    <tr>\n",
       "      <th>4</th>\n",
       "      <td>Fri Jul 23 13:32:48</td>\n",
       "      <td>FerdinandHaean3 penting jeplak tidak peduli n...</td>\n",
       "      <td>negatif</td>\n",
       "    </tr>\n",
       "  </tbody>\n",
       "</table>\n",
       "</div>"
      ],
      "text/plain": [
       "                  date                                            content  \\\n",
       "0  Fri Jul 23 23:56:17   aksi dgn tajuk turunkan jokowi sdg ramai meds...   \n",
       "1  Fri Jul 23 23:20:32   Tetaplah idiot bodoh goblok pandir serta dung...   \n",
       "2  Fri Jul 23 16:47:46   makanya tolol bener kalau lalu sekarang mau d...   \n",
       "3  Fri Jul 23 16:23:40   bikin kyak gini pake kalimat Jokowi end game ...   \n",
       "4  Fri Jul 23 13:32:48   FerdinandHaean3 penting jeplak tidak peduli n...   \n",
       "\n",
       "     label  \n",
       "0  negatif  \n",
       "1  positif  \n",
       "2  positif  \n",
       "3  negatif  \n",
       "4  negatif  "
      ]
     },
     "execution_count": 7,
     "metadata": {},
     "output_type": "execute_result"
    }
   ],
   "source": [
    "# Menghapus spasi pada kolom \"label\"\n",
    "data_2021.label = list(map(lambda x: x.strip(), data_2021.label))\n",
    "data_2021.head()"
   ]
  },
  {
   "cell_type": "markdown",
   "metadata": {},
   "source": [
    "Setelah melakukan proses cleansing teks yaitu menghapus beberapa simbol/karakter-karakter yang tidak dipentingkan dalam kolom content tweet, langkah selanjutnya adalah case folding. Case folding merupakan sebuah tahapan untuk mengubah huruf-huruf kapital menjadi huruf-huruf kecil."
   ]
  },
  {
   "cell_type": "markdown",
   "metadata": {},
   "source": [
    "### Case Folding"
   ]
  },
  {
   "cell_type": "code",
   "execution_count": 8,
   "metadata": {},
   "outputs": [
    {
     "data": {
      "text/html": [
       "<div>\n",
       "<style scoped>\n",
       "    .dataframe tbody tr th:only-of-type {\n",
       "        vertical-align: middle;\n",
       "    }\n",
       "\n",
       "    .dataframe tbody tr th {\n",
       "        vertical-align: top;\n",
       "    }\n",
       "\n",
       "    .dataframe thead th {\n",
       "        text-align: right;\n",
       "    }\n",
       "</style>\n",
       "<table border=\"1\" class=\"dataframe\">\n",
       "  <thead>\n",
       "    <tr style=\"text-align: right;\">\n",
       "      <th></th>\n",
       "      <th>date</th>\n",
       "      <th>content</th>\n",
       "      <th>label</th>\n",
       "    </tr>\n",
       "  </thead>\n",
       "  <tbody>\n",
       "    <tr>\n",
       "      <th>0</th>\n",
       "      <td>Fri Jul 23 23:56:17</td>\n",
       "      <td>aksi dgn tajuk turunkan jokowi sdg ramai meds...</td>\n",
       "      <td>negatif</td>\n",
       "    </tr>\n",
       "    <tr>\n",
       "      <th>1</th>\n",
       "      <td>Fri Jul 23 23:20:32</td>\n",
       "      <td>tetaplah idiot bodoh goblok pandir serta dung...</td>\n",
       "      <td>positif</td>\n",
       "    </tr>\n",
       "    <tr>\n",
       "      <th>2</th>\n",
       "      <td>Fri Jul 23 16:47:46</td>\n",
       "      <td>makanya tolol bener kalau lalu sekarang mau d...</td>\n",
       "      <td>positif</td>\n",
       "    </tr>\n",
       "    <tr>\n",
       "      <th>3</th>\n",
       "      <td>Fri Jul 23 16:23:40</td>\n",
       "      <td>bikin kyak gini pake kalimat jokowi end game ...</td>\n",
       "      <td>negatif</td>\n",
       "    </tr>\n",
       "    <tr>\n",
       "      <th>4</th>\n",
       "      <td>Fri Jul 23 13:32:48</td>\n",
       "      <td>ferdinandhaean3 penting jeplak tidak peduli n...</td>\n",
       "      <td>negatif</td>\n",
       "    </tr>\n",
       "  </tbody>\n",
       "</table>\n",
       "</div>"
      ],
      "text/plain": [
       "                  date                                            content  \\\n",
       "0  Fri Jul 23 23:56:17   aksi dgn tajuk turunkan jokowi sdg ramai meds...   \n",
       "1  Fri Jul 23 23:20:32   tetaplah idiot bodoh goblok pandir serta dung...   \n",
       "2  Fri Jul 23 16:47:46   makanya tolol bener kalau lalu sekarang mau d...   \n",
       "3  Fri Jul 23 16:23:40   bikin kyak gini pake kalimat jokowi end game ...   \n",
       "4  Fri Jul 23 13:32:48   ferdinandhaean3 penting jeplak tidak peduli n...   \n",
       "\n",
       "     label  \n",
       "0  negatif  \n",
       "1  positif  \n",
       "2  positif  \n",
       "3  negatif  \n",
       "4  negatif  "
      ]
     },
     "execution_count": 8,
     "metadata": {},
     "output_type": "execute_result"
    }
   ],
   "source": [
    "# Mengubah ukuran setiap kalimat yang ada di kolom \"content\" menjadi huruf kecil\n",
    "data_2021[\"content\"] = data_2021[\"content\"].str.lower()\n",
    "\n",
    "data_2021.head()"
   ]
  },
  {
   "cell_type": "markdown",
   "metadata": {},
   "source": [
    "Setelah melakukan proses case folding, langkah selanjutnya adalah tokenizing/tokenisasi. Tahap tokenizing merupakan tahap pemotongan teks ke dalam satuan kata."
   ]
  },
  {
   "cell_type": "markdown",
   "metadata": {},
   "source": [
    "### Tokenizing"
   ]
  },
  {
   "cell_type": "code",
   "execution_count": 9,
   "metadata": {},
   "outputs": [
    {
     "data": {
      "text/html": [
       "<div>\n",
       "<style scoped>\n",
       "    .dataframe tbody tr th:only-of-type {\n",
       "        vertical-align: middle;\n",
       "    }\n",
       "\n",
       "    .dataframe tbody tr th {\n",
       "        vertical-align: top;\n",
       "    }\n",
       "\n",
       "    .dataframe thead th {\n",
       "        text-align: right;\n",
       "    }\n",
       "</style>\n",
       "<table border=\"1\" class=\"dataframe\">\n",
       "  <thead>\n",
       "    <tr style=\"text-align: right;\">\n",
       "      <th></th>\n",
       "      <th>date</th>\n",
       "      <th>content</th>\n",
       "      <th>label</th>\n",
       "      <th>content_tokenizing</th>\n",
       "    </tr>\n",
       "  </thead>\n",
       "  <tbody>\n",
       "    <tr>\n",
       "      <th>0</th>\n",
       "      <td>Fri Jul 23 23:56:17</td>\n",
       "      <td>aksi dgn tajuk turunkan jokowi sdg ramai meds...</td>\n",
       "      <td>negatif</td>\n",
       "      <td>[aksi, dgn, tajuk, turunkan, jokowi, sdg, rama...</td>\n",
       "    </tr>\n",
       "    <tr>\n",
       "      <th>1</th>\n",
       "      <td>Fri Jul 23 23:20:32</td>\n",
       "      <td>tetaplah idiot bodoh goblok pandir serta dung...</td>\n",
       "      <td>positif</td>\n",
       "      <td>[tetaplah, idiot, bodoh, goblok, pandir, serta...</td>\n",
       "    </tr>\n",
       "    <tr>\n",
       "      <th>2</th>\n",
       "      <td>Fri Jul 23 16:47:46</td>\n",
       "      <td>makanya tolol bener kalau lalu sekarang mau d...</td>\n",
       "      <td>positif</td>\n",
       "      <td>[makanya, tolol, bener, kalau, lalu, sekarang,...</td>\n",
       "    </tr>\n",
       "    <tr>\n",
       "      <th>3</th>\n",
       "      <td>Fri Jul 23 16:23:40</td>\n",
       "      <td>bikin kyak gini pake kalimat jokowi end game ...</td>\n",
       "      <td>negatif</td>\n",
       "      <td>[bikin, kyak, gini, pake, kalimat, jokowi, end...</td>\n",
       "    </tr>\n",
       "    <tr>\n",
       "      <th>4</th>\n",
       "      <td>Fri Jul 23 13:32:48</td>\n",
       "      <td>ferdinandhaean3 penting jeplak tidak peduli n...</td>\n",
       "      <td>negatif</td>\n",
       "      <td>[ferdinandhaean3, penting, jeplak, tidak, pedu...</td>\n",
       "    </tr>\n",
       "  </tbody>\n",
       "</table>\n",
       "</div>"
      ],
      "text/plain": [
       "                  date                                            content  \\\n",
       "0  Fri Jul 23 23:56:17   aksi dgn tajuk turunkan jokowi sdg ramai meds...   \n",
       "1  Fri Jul 23 23:20:32   tetaplah idiot bodoh goblok pandir serta dung...   \n",
       "2  Fri Jul 23 16:47:46   makanya tolol bener kalau lalu sekarang mau d...   \n",
       "3  Fri Jul 23 16:23:40   bikin kyak gini pake kalimat jokowi end game ...   \n",
       "4  Fri Jul 23 13:32:48   ferdinandhaean3 penting jeplak tidak peduli n...   \n",
       "\n",
       "     label                                 content_tokenizing  \n",
       "0  negatif  [aksi, dgn, tajuk, turunkan, jokowi, sdg, rama...  \n",
       "1  positif  [tetaplah, idiot, bodoh, goblok, pandir, serta...  \n",
       "2  positif  [makanya, tolol, bener, kalau, lalu, sekarang,...  \n",
       "3  negatif  [bikin, kyak, gini, pake, kalimat, jokowi, end...  \n",
       "4  negatif  [ferdinandhaean3, penting, jeplak, tidak, pedu...  "
      ]
     },
     "execution_count": 9,
     "metadata": {},
     "output_type": "execute_result"
    }
   ],
   "source": [
    "# Melakukan Tahapan Tokenisasi. \n",
    "# Tokenisasi adalah tahapan prepocessing data yang digunakan untuk membagi kalimat menjadi perkata\n",
    "def tokennization(text):\n",
    "    return word_tokenize(text)\n",
    "\n",
    "data_2021[\"content_tokenizing\"] = data_2021[\"content\"].apply(tokennization)\n",
    "data_2021.head()"
   ]
  },
  {
   "cell_type": "markdown",
   "metadata": {},
   "source": [
    "Setelah melakukan tahapan tokenisasi, selanjutnya saya akan melakukan proses filtering (stowords). Proses stopwords ini merupakan tahapan mengambil kata-kata dari tahapan tokenisasi. Stopword merupakan sebuah tahapan yang dimana bertujuan untuk membuang kata-kata yang tidak deskriptif dalam melakukan pendekatan bag-of-words."
   ]
  },
  {
   "cell_type": "markdown",
   "metadata": {},
   "source": [
    "### Stopwords"
   ]
  },
  {
   "cell_type": "code",
   "execution_count": 10,
   "metadata": {},
   "outputs": [
    {
     "name": "stdout",
     "output_type": "stream",
     "text": [
      "['yang', 'untuk', 'pada', 'ke', 'para', 'namun', 'menurut', 'antara', 'dia', 'dua', 'ia', 'seperti', 'jika', 'jika', 'sehingga', 'kembali', 'dan', 'tidak', 'ini', 'karena', 'kepada', 'oleh', 'saat', 'harus', 'sementara', 'setelah', 'belum', 'kami', 'sekitar', 'bagi', 'serta', 'di', 'dari', 'telah', 'sebagai', 'masih', 'hal', 'ketika', 'adalah', 'itu', 'dalam', 'bisa', 'bahwa', 'atau', 'hanya', 'kita', 'dengan', 'akan', 'juga', 'ada', 'mereka', 'sudah', 'saya', 'terhadap', 'secara', 'agar', 'lain', 'anda', 'begitu', 'mengapa', 'kenapa', 'yaitu', 'yakni', 'daripada', 'itulah', 'lagi', 'maka', 'tentang', 'demi', 'dimana', 'kemana', 'pula', 'sambil', 'sebelum', 'sesudah', 'supaya', 'guna', 'kah', 'pun', 'sampai', 'sedangkan', 'selagi', 'sementara', 'tetapi', 'apakah', 'kecuali', 'sebab', 'selain', 'seolah', 'seraya', 'seterusnya', 'tanpa', 'agak', 'boleh', 'dapat', 'dsb', 'dst', 'dll', 'dahulu', 'dulunya', 'anu', 'demikian', 'tapi', 'ingin', 'juga', 'nggak', 'mari', 'nanti', 'melainkan', 'oh', 'ok', 'seharusnya', 'sebetulnya', 'setiap', 'setidaknya', 'sesuatu', 'pasti', 'saja', 'toh', 'ya', 'walau', 'tolong', 'tentu', 'amat', 'apalagi', 'bagaimanapun']\n"
     ]
    }
   ],
   "source": [
    "from Sastrawi.StopWordRemover.StopWordRemoverFactory import StopWordRemoverFactory\n",
    " \n",
    "factory = StopWordRemoverFactory()\n",
    "stopwords = factory.get_stop_words()\n",
    "print(stopwords)"
   ]
  },
  {
   "cell_type": "markdown",
   "metadata": {},
   "source": [
    "Proses stopwords saya lakukan dengan mengambil nilai-nilai yang ada diatas yang sudah ditentukan oleh library Sastrawi. Kata-kata diatas boleh digunakan secara keseluruhan/diambil hanya beberapa saja."
   ]
  },
  {
   "cell_type": "code",
   "execution_count": 11,
   "metadata": {},
   "outputs": [
    {
     "name": "stderr",
     "output_type": "stream",
     "text": [
      "[nltk_data] Downloading package stopwords to\n",
      "[nltk_data]     C:\\Users\\Asus\\AppData\\Roaming\\nltk_data...\n",
      "[nltk_data]   Package stopwords is already up-to-date!\n"
     ]
    }
   ],
   "source": [
    "# Proses Filtering dari kolom \"content_tokenizing\"\n",
    "nltk.download(\"stopwords\")\n",
    "from nltk.corpus import stopwords\n",
    "\n",
    "list_delete = [\"yang\", \"untuk\", \"pada\", \"ke\", \"antara\", \"dua\", \"ia\", \"seperti\", \"antara\", \"dia\", \"seperti\", \"jika\",\n",
    "               \"tidak\", \"oleh\", \"saat\", \"harus\", \"sementara\", \"mereka\", \"sudah\", \"terhadap\", \"sehingga\",\n",
    "               \"secara\", \"agar\", \"lain\", \"begitu\", \"mengapa\", \"kenapa\", \"yaitu\", \"yakni\", \"daripada\",\n",
    "               \"sekitar\", \"serta\", \"di\", \"dari\", \"telah\", \"sebagai\", \"masih\", 'setidaknya', \"sesuatu\", \"pasti\", \n",
    "               \"saja\", \"toh\", \"ya\", \"walau\", \"hal\", \"bahwa\", \"atau\", \"hanya\", \"ada\", \"mereka\", \"agar\", \"lain\", \n",
    "               \"anda\", \"begitu\", \"yaitu\", \"yakni\", \"itulah\", \"demi\", \"dimana\", \"pula\", \"sambil\", \"sebelum\", \n",
    "               \"sesudah\", \"guna\", \"ia\", \"dengan\", \"https\", \"supaya\", \"kah\", \"pun\", \"sampai\", \"seraya\", \"seterusnya\", \n",
    "               \"tanpa\", \"agak\", \"boleh\", \"dapat\", \"dsb\", \"dst\", \"nggak\", \"mari\", \"nanti\", \"melainkan\", \"oh\", \"ok\",\n",
    "               \"sedangkan\", \"selagi\", \"seharusnya\", \"sebetulnya\", \"setiap\", \"apakah\", \"kecuali\", \"sebab\", \"selain\"]\n",
    "\n",
    "list_stopwords = stopwords.words(\"indonesian\")"
   ]
  },
  {
   "cell_type": "code",
   "execution_count": 12,
   "metadata": {},
   "outputs": [],
   "source": [
    "# Mendeklarasikan fungsi untuk list_stopwords\n",
    "def stopword(text):\n",
    "    return [word for word in text if word not in list_stopwords]\n",
    "\n",
    "data_2021[\"content_stopwords\"] = data_2021[\"content_tokenizing\"].apply(stopword)"
   ]
  },
  {
   "cell_type": "code",
   "execution_count": 13,
   "metadata": {},
   "outputs": [
    {
     "data": {
      "text/html": [
       "<div>\n",
       "<style scoped>\n",
       "    .dataframe tbody tr th:only-of-type {\n",
       "        vertical-align: middle;\n",
       "    }\n",
       "\n",
       "    .dataframe tbody tr th {\n",
       "        vertical-align: top;\n",
       "    }\n",
       "\n",
       "    .dataframe thead th {\n",
       "        text-align: right;\n",
       "    }\n",
       "</style>\n",
       "<table border=\"1\" class=\"dataframe\">\n",
       "  <thead>\n",
       "    <tr style=\"text-align: right;\">\n",
       "      <th></th>\n",
       "      <th>date</th>\n",
       "      <th>content</th>\n",
       "      <th>label</th>\n",
       "      <th>content_tokenizing</th>\n",
       "      <th>content_stopwords</th>\n",
       "    </tr>\n",
       "  </thead>\n",
       "  <tbody>\n",
       "    <tr>\n",
       "      <th>0</th>\n",
       "      <td>Fri Jul 23 23:56:17</td>\n",
       "      <td>aksi dgn tajuk turunkan jokowi sdg ramai meds...</td>\n",
       "      <td>negatif</td>\n",
       "      <td>[aksi, dgn, tajuk, turunkan, jokowi, sdg, rama...</td>\n",
       "      <td>[aksi, dgn, tajuk, turunkan, jokowi, sdg, rama...</td>\n",
       "    </tr>\n",
       "    <tr>\n",
       "      <th>1</th>\n",
       "      <td>Fri Jul 23 23:20:32</td>\n",
       "      <td>tetaplah idiot bodoh goblok pandir serta dung...</td>\n",
       "      <td>positif</td>\n",
       "      <td>[tetaplah, idiot, bodoh, goblok, pandir, serta...</td>\n",
       "      <td>[tetaplah, idiot, bodoh, goblok, pandir, dungu...</td>\n",
       "    </tr>\n",
       "    <tr>\n",
       "      <th>2</th>\n",
       "      <td>Fri Jul 23 16:47:46</td>\n",
       "      <td>makanya tolol bener kalau lalu sekarang mau d...</td>\n",
       "      <td>positif</td>\n",
       "      <td>[makanya, tolol, bener, kalau, lalu, sekarang,...</td>\n",
       "      <td>[tolol, bener, dibilang, berintegritas, diapre...</td>\n",
       "    </tr>\n",
       "    <tr>\n",
       "      <th>3</th>\n",
       "      <td>Fri Jul 23 16:23:40</td>\n",
       "      <td>bikin kyak gini pake kalimat jokowi end game ...</td>\n",
       "      <td>negatif</td>\n",
       "      <td>[bikin, kyak, gini, pake, kalimat, jokowi, end...</td>\n",
       "      <td>[bikin, kyak, gini, pake, kalimat, jokowi, end...</td>\n",
       "    </tr>\n",
       "    <tr>\n",
       "      <th>4</th>\n",
       "      <td>Fri Jul 23 13:32:48</td>\n",
       "      <td>ferdinandhaean3 penting jeplak tidak peduli n...</td>\n",
       "      <td>negatif</td>\n",
       "      <td>[ferdinandhaean3, penting, jeplak, tidak, pedu...</td>\n",
       "      <td>[ferdinandhaean3, jeplak, peduli, nyambung, ta...</td>\n",
       "    </tr>\n",
       "  </tbody>\n",
       "</table>\n",
       "</div>"
      ],
      "text/plain": [
       "                  date                                            content  \\\n",
       "0  Fri Jul 23 23:56:17   aksi dgn tajuk turunkan jokowi sdg ramai meds...   \n",
       "1  Fri Jul 23 23:20:32   tetaplah idiot bodoh goblok pandir serta dung...   \n",
       "2  Fri Jul 23 16:47:46   makanya tolol bener kalau lalu sekarang mau d...   \n",
       "3  Fri Jul 23 16:23:40   bikin kyak gini pake kalimat jokowi end game ...   \n",
       "4  Fri Jul 23 13:32:48   ferdinandhaean3 penting jeplak tidak peduli n...   \n",
       "\n",
       "     label                                 content_tokenizing  \\\n",
       "0  negatif  [aksi, dgn, tajuk, turunkan, jokowi, sdg, rama...   \n",
       "1  positif  [tetaplah, idiot, bodoh, goblok, pandir, serta...   \n",
       "2  positif  [makanya, tolol, bener, kalau, lalu, sekarang,...   \n",
       "3  negatif  [bikin, kyak, gini, pake, kalimat, jokowi, end...   \n",
       "4  negatif  [ferdinandhaean3, penting, jeplak, tidak, pedu...   \n",
       "\n",
       "                                   content_stopwords  \n",
       "0  [aksi, dgn, tajuk, turunkan, jokowi, sdg, rama...  \n",
       "1  [tetaplah, idiot, bodoh, goblok, pandir, dungu...  \n",
       "2  [tolol, bener, dibilang, berintegritas, diapre...  \n",
       "3  [bikin, kyak, gini, pake, kalimat, jokowi, end...  \n",
       "4  [ferdinandhaean3, jeplak, peduli, nyambung, ta...  "
      ]
     },
     "execution_count": 13,
     "metadata": {},
     "output_type": "execute_result"
    }
   ],
   "source": [
    "# Mendeklarasikan fungsi untuk list_delete\n",
    "def stopwords_removal(text):\n",
    "    return [word for word in text if word not in list_delete]\n",
    "\n",
    "data_2021[\"content_stopwords\"] = data_2021[\"content_stopwords\"].apply(stopwords_removal)\n",
    "data_2021.head()"
   ]
  },
  {
   "cell_type": "markdown",
   "metadata": {},
   "source": [
    "Tahapan terakhir dalam text processing adalah proses stemming. Teknik Stemming merupakan sebuah tahapan kegiatan text preprocessing untuk memperkecil jumlah indeks yang berbeda dari suatu data dan juga untuk melakukan pengelompokan kata-kata lain yang memiliki kata dasar dan arti yang serupa namun memiliki bentuk yang berbeda karena mendapatkan imbuhan yang berbeda pula."
   ]
  },
  {
   "cell_type": "markdown",
   "metadata": {},
   "source": [
    "### Stemming"
   ]
  },
  {
   "cell_type": "code",
   "execution_count": null,
   "metadata": {},
   "outputs": [],
   "source": []
  }
 ],
 "metadata": {
  "kernelspec": {
   "display_name": "Python 3",
   "language": "python",
   "name": "python3"
  },
  "language_info": {
   "codemirror_mode": {
    "name": "ipython",
    "version": 3
   },
   "file_extension": ".py",
   "mimetype": "text/x-python",
   "name": "python",
   "nbconvert_exporter": "python",
   "pygments_lexer": "ipython3",
   "version": "3.8.5"
  }
 },
 "nbformat": 4,
 "nbformat_minor": 4
}
